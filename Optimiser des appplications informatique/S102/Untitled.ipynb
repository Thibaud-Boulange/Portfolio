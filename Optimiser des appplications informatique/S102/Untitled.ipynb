{
 "cells": [
  {
   "cell_type": "code",
   "execution_count": 27,
   "id": "e00ecd94",
   "metadata": {},
   "outputs": [
    {
     "data": {
      "text/plain": [
       "['Daria', 'Thomas', 'Carole', 'Yasmine']"
      ]
     },
     "execution_count": 27,
     "metadata": {},
     "output_type": "execute_result"
    }
   ],
   "source": [
    "test = {\n",
    "    \"Alice\" : [\"Bob\", \"Dominique\"],\n",
    "    \"Bob\" : [\"Alice\", \"Charlie\", \"Dominique\"],\n",
    "    \"Charlie\" : [\"Bob\"],\n",
    "    \"Dominique\" : [\"Alice\", \"Bob\"]\n",
    "  }\n",
    "\n",
    "\n",
    "def create_network(list_of_friends):\n",
    "    i = 0 \n",
    "    dico = {}\n",
    "    while i < len(list_of_friends)/2:\n",
    "        if list_of_friends[2*i] in list(dico):\n",
    "            dico[list_of_friends[2*i]].append(list_of_friends[2*i+1])\n",
    "        else:\n",
    "            dico[list_of_friends[2*i]] = [list_of_friends[2*i+1]]\n",
    "        if list_of_friends[2*i+1] in list(dico):\n",
    "            dico[list_of_friends[2*i+1]].append(list_of_friends[2*i])\n",
    "        else:\n",
    "            dico[list_of_friends[2*i+1]] = [list_of_friends[2*i]]\n",
    "        i += 1\n",
    "    return dico\n",
    "\n",
    "\n",
    "\n",
    "def get_people(network):\n",
    "    return list(network)\n",
    "\n",
    "get_people({'Daria': ['Thomas'], 'Thomas': ['Daria', 'Carole', 'Yasmine'], 'Carole': ['Thomas'], 'Yasmine': ['Thomas']})\n"
   ]
  },
  {
   "cell_type": "code",
   "execution_count": 1,
   "id": "3f92135b",
   "metadata": {},
   "outputs": [
    {
     "ename": "NameError",
     "evalue": "name 'test' is not defined",
     "output_type": "error",
     "traceback": [
      "\u001b[1;31m---------------------------------------------------------------------------\u001b[0m",
      "\u001b[1;31mNameError\u001b[0m                                 Traceback (most recent call last)",
      "Input \u001b[1;32mIn [1]\u001b[0m, in \u001b[0;36m<cell line: 74>\u001b[1;34m()\u001b[0m\n\u001b[0;32m     70\u001b[0m         i \u001b[38;5;241m+\u001b[39m\u001b[38;5;241m=\u001b[39m\u001b[38;5;241m1\u001b[39m\n\u001b[0;32m     71\u001b[0m     \u001b[38;5;28;01mreturn\u001b[39;00m \u001b[38;5;28mmax\u001b[39m\n\u001b[1;32m---> 74\u001b[0m find_max_community(\u001b[43mtest\u001b[49m)\n",
      "\u001b[1;31mNameError\u001b[0m: name 'test' is not defined"
     ]
    }
   ],
   "source": [
    "def are_friends(network, person1, person2):\n",
    "    return person2 in network[person1]\n",
    "        \n",
    "\n",
    "\n",
    "def all_is_friends(network, person, group):\n",
    "    i=0\n",
    "    while i < len(group) and are_friends(network, person, group[i]):\n",
    "        i+=1\n",
    "    return i == len(group)\n",
    "\n",
    "\n",
    "\n",
    "def is_a_community(network, group):\n",
    "    i=0\n",
    "    while i<len(group) and all_is_friends(network, group[i], group):\n",
    "        i+=1\n",
    "    return i == len(group)\n",
    "         \n",
    "def find_community(network, group):\n",
    "    comm = []\n",
    "    i=0\n",
    "    while i<len(group):\n",
    "        if all_his_friends(network, group[i], comm) or comm == []:\n",
    "            comm.append(group[i])\n",
    "        i+=1\n",
    "    return comm\n",
    "\n",
    "\n",
    "#find_community(test,[\"Alice\", \"Bob\", \"Charlie\", \"Dominique\"])\n",
    "\n",
    "\n",
    "def order_by_decreasing_popularity(network, group):\n",
    "    i = 1\n",
    "    while i < len(group):\n",
    "        j = i\n",
    "        while j > 0 and len(network[group[j]]) > len(network[group[j-1]]):\n",
    "            tmp = group[j]\n",
    "            group[j] = group[j-1]\n",
    "            group[j-1] = tmp\n",
    "            j -= 1\n",
    "        i += 1\n",
    "        \n",
    "def find_community_by_decreasing_popularity(network):\n",
    "    group = get_people(network)\n",
    "    order_by_decreasing_popularity(network, group)\n",
    "    return find_community(network, group)\n",
    "\n",
    "\n",
    "def find_community_from_person(network, person):\n",
    "    group = network[person]\n",
    "    order_by_decreasing_popularity(network, group)\n",
    "    comm = [person]\n",
    "    i=0\n",
    "    while i<len(group):\n",
    "        if all_is_friends(network, group[i], comm):\n",
    "            comm.append(group[i])\n",
    "        i+=1\n",
    "    return comm\n",
    "\n",
    "    \n",
    "def find_max_community(network):\n",
    "    i = 0\n",
    "    max = []\n",
    "    ls_group = get_people(network)\n",
    "    while i < len(ls_group):\n",
    "        com = find_community_from_person(network, ls_group[i])\n",
    "        if len(com) > len(max):\n",
    "            max = com\n",
    "        i +=1\n",
    "    return max\n",
    "\n",
    "\n",
    "find_max_community(test)\n",
    "\n",
    "\n",
    "        "
   ]
  },
  {
   "cell_type": "code",
   "execution_count": null,
   "id": "b3063515",
   "metadata": {},
   "outputs": [],
   "source": []
  }
 ],
 "metadata": {
  "kernelspec": {
   "display_name": "Python 3 (ipykernel)",
   "language": "python",
   "name": "python3"
  },
  "language_info": {
   "codemirror_mode": {
    "name": "ipython",
    "version": 3
   },
   "file_extension": ".py",
   "mimetype": "text/x-python",
   "name": "python",
   "nbconvert_exporter": "python",
   "pygments_lexer": "ipython3",
   "version": "3.9.12"
  }
 },
 "nbformat": 4,
 "nbformat_minor": 5
}
