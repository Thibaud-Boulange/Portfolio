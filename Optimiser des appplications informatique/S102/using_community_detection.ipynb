{
 "cells": [
  {
   "cell_type": "raw",
   "id": "5d5a7241",
   "metadata": {},
   "source": [
    "Question 2:\n",
    "\n",
    "Comparaison Théorique: \n",
    "1)La fonction dico_reseau execute une première boucle qui permet d'otebnir la liste des personnes du reseau et ensuite execute une boucle qui parcours cette liste et à chaque tour execute une autre fonction qui a son tour fait une boucle pour parcourir tout le tableau original pour trouver tout les amis de la personne, on a donc une compléxité quadratique pour la fonction dico_reseau.\n",
    "\n",
    "2)La fonction create_network parcours une seule fois le tableau et traite informations apres informations, plutôt que de parcourir tout le tableau pour chaque personne, elle va ajouter un à un les amis au fur et à mesure qu'elle les rencontre. A chaque tour s'execute quand meme une petite boucle qui parcours la liste des clefs pour savoir si la personne est deja dedans mais globalement le tableau initial est parcourus qu'une fois plutôt que n fois le nombre de personnes dans le reseau. On pourrait donc dire que la compléxité est aussi quadratique mais devrait etre moindre que la fonction dico_reseau.\n"
   ]
  },
  {
   "cell_type": "code",
   "execution_count": 9,
   "id": "0538ce5d",
   "metadata": {},
   "outputs": [
    {
     "name": "stdout",
     "output_type": "stream",
     "text": [
      "Temps d'execution de 'dico_reseau' : 13.01 ms\n",
      "Temps d'execution de 'create_network' : 1.5 ms\n"
     ]
    }
   ],
   "source": [
    "#Comparaison expérimentale :\n",
    "\n",
    "from time import time\n",
    "from community_detection import *\n",
    "\n",
    "test = lecture_reseau(\"files1/Communaute2.csv\")\n",
    "\n",
    "tic = time()\n",
    "dico_reseau(test)\n",
    "tac = time()\n",
    "\n",
    "print(\"Temps d'execution de 'dico_reseau' :\",round(1000*(tac-tic),2),\"ms\")\n",
    "\n",
    "tic = time()\n",
    "create_network(test)\n",
    "tac = time()\n",
    "\n",
    "print(\"Temps d'execution de 'create_network' :\",round(1000*(tac-tic),2),\"ms\")\n",
    "\n",
    "\n"
   ]
  },
  {
   "cell_type": "raw",
   "id": "e1052800",
   "metadata": {},
   "source": [
    "Question 11:\n",
    "\n",
    "Comparaison Théorique: \n",
    "1)La fonction find_community_by_decreasing_popularity va d'abord recuperer la liste des personnes, puis appliquer un algorithme de tri au tableau qui a une complexite quadratique. Ensuite elle va appeler une autre fonction qui va chercher la communaute, cette autre fonction a une complexite cubique car a chaque tour de boucle elle appelle une autre fonction qui elle meme a chaque tour de boucle en appelle une autre qui contient une boucle. On a donc dans un premier temps un appel de fonction a complexite quadratique puis un appel de fonction a complexite cubique.\n",
    "\n",
    "2)La fonction find_community_from_person elle va avoir besoin de la personne la plus populaire, il va donc falloir la chercher ce qui va deja demandé une boucle à complexité lineaire. Elle va ensuite appliquer le meme principe que l'autre fonction sauf qu'elle se basera sur la personne donnée pour creer la communaute alors que l'autre prendra la premiere personne du tableau qui correspond deja a la personne la plus populaire. Cette fonction a aussi un appel de fonction a complexite quadratique pour le tri mais ne tri que les amis de la personne donnée. Ensuite on a aussi une execution d'une boucle qui appelle une fonction a complexité quadratique, donc la complexite final est cubique. Mais seul les amis de la personne trouvé seront testé et non pas tout le reseau donc cela va economiser du temps de calcul.\n"
   ]
  },
  {
   "cell_type": "code",
   "execution_count": 10,
   "id": "8d80ea7f",
   "metadata": {},
   "outputs": [
    {
     "name": "stdout",
     "output_type": "stream",
     "text": [
      "Temps d'execution de 'find_community_by_decreasing_popularity' : 41.54 ms\n",
      "Temps d'execution de 'find_community_from_person' : 1.0 ms\n"
     ]
    }
   ],
   "source": [
    "test = create_network(lecture_reseau2(\"files1/Communaute3.csv\"))\n",
    "\n",
    "tic = time()\n",
    "find_community_by_decreasing_popularity(test)\n",
    "tac = time()\n",
    "\n",
    "print(\"Temps d'execution de 'find_community_by_decreasing_popularity' :\",round(1000*(tac-tic),2),\"ms\")\n",
    "\n",
    "tic = time()\n",
    "i = 0\n",
    "ls_personnes= list(test)\n",
    "ind = 0\n",
    "while i < len(ls_personnes):\n",
    "    if len(test[ls_personnes[i]]) > len(test[ls_personnes[ind]]):\n",
    "        ind = i\n",
    "    i += 1\n",
    "find_community_from_person(test, ls_personnes[ind])\n",
    "tac = time()\n",
    "\n",
    "print(\"Temps d'execution de 'find_community_from_person' :\",round(1000*(tac-tic),2),\"ms\")"
   ]
  },
  {
   "cell_type": "code",
   "execution_count": null,
   "id": "249c70cb",
   "metadata": {},
   "outputs": [],
   "source": []
  }
 ],
 "metadata": {
  "kernelspec": {
   "display_name": "Python 3 (ipykernel)",
   "language": "python",
   "name": "python3"
  },
  "language_info": {
   "codemirror_mode": {
    "name": "ipython",
    "version": 3
   },
   "file_extension": ".py",
   "mimetype": "text/x-python",
   "name": "python",
   "nbconvert_exporter": "python",
   "pygments_lexer": "ipython3",
   "version": "3.9.12"
  }
 },
 "nbformat": 4,
 "nbformat_minor": 5
}
