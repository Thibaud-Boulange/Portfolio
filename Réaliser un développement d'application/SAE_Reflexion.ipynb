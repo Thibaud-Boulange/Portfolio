{
 "cells": [
  {
   "cell_type": "markdown",
   "metadata": {
    "deletable": false,
    "editable": false,
    "run_control": {
     "frozen": true
    }
   },
   "source": [
    "# <center> Etude de communautés dans un réseau social</center>\n",
    "<center> SAE 1.01 / 2022 - 23 </center>\n",
    "\n"
   ]
  },
  {
   "cell_type": "markdown",
   "metadata": {
    "deletable": false,
    "editable": false,
    "run_control": {
     "frozen": true
    }
   },
   "source": [
    "Cette SAE est à faire en **binôme**.\n",
    "\n",
    "**Calendrier**\n",
    "- Un contrôle de 2h en lien avec le contenu de cette SAE aura lieu le mercredi **26 octobre** 2022.\n",
    "- Le projet est à rendre le vendredi **28 octobre** 2022. Les modalités de rendu vous seront précisées par votre enseignant.\n",
    "\n",
    "**Evaluation**\n",
    "- Le projet comptera pour 40% de la note de SAE 1.01. <BR>\n",
    "    Il sera particulièrement tenu compte de la qualité du code, des **commentaires** et **docstrings**, des fonctions de **tests unitaires** pour les fonctions renvoyant des résultats. <BR><BR>\n",
    "    \n",
    "- Le contrôle compte pour 60% de la note finale."
   ]
  },
  {
   "cell_type": "markdown",
   "metadata": {
    "deletable": false,
    "editable": false,
    "run_control": {
     "frozen": true
    }
   },
   "source": [
    "## <center> Sujet </center>\n",
    "\n",
    "Une *communauté* est un ensemble de personnes développant des interactions dans un réseau social.\n",
    "\n",
    "Dans ce projet, on étudie des communautés modélisées sous différentes formes. Pour cela, on développe des fonctions permettant d'extraire des informations relatives à ces réseaux. "
   ]
  },
  {
   "cell_type": "markdown",
   "metadata": {
    "deletable": false,
    "editable": false,
    "run_control": {
     "frozen": true
    }
   },
   "source": [
    "On modélise, dans un premier temps, les interactions entre personnes dans un tableau `amis` de chaînes de caractères contenant les prénoms des membres du réseau et tel que `amis[2*i]` a des interactions avec `amis[2*i+1]`.\n",
    "\n",
    "On suppose que chaque interaction n'est décrite qu'une seule fois dans le tableau, et qu'une personne n'a pas d'interaction avec elle-même.\n",
    "\n",
    "**Exemple** : "
   ]
  },
  {
   "cell_type": "code",
   "execution_count": 3,
   "metadata": {
    "deletable": false,
    "editable": false
   },
   "outputs": [],
   "source": [
    "amis = [\"Alice\", \"Bob\", \"Alice\", \"Charlie\", \"Bob\", \"Denis\"]"
   ]
  },
  {
   "cell_type": "markdown",
   "metadata": {
    "deletable": false,
    "editable": false,
    "run_control": {
     "frozen": true
    }
   },
   "source": [
    "Ici, \n",
    "- Alice a des interactions Bob et Charlie, \n",
    "- Bob a des intractions avec Alice et Denis,\n",
    "- Charlie a des interactions avec Alice et\n",
    "- Denis a des interactions avec Bob."
   ]
  },
  {
   "cell_type": "markdown",
   "metadata": {
    "deletable": false,
    "editable": false,
    "run_control": {
     "frozen": true
    }
   },
   "source": [
    "#### Question préliminaire : Modélisation d'un réseau par un tableau\n",
    "\n",
    "Muriel, Yasmine et Joël sont amis. Yasmine est amie avec Thomas. \n",
    "Joël, Nassim, Andrea et Ali sont amis. Thomas est ami de Daria et Carole. Thierry, Axel et Léo sont amis. Léo est ami de Valentin qui est ami d'Andrea.\n",
    "\n",
    "- Construire un tableau `p_amis` qui modélise ce réseau d'amitié en selon le principe qui vient d'être décrit."
   ]
  },
  {
   "cell_type": "code",
   "execution_count": null,
   "metadata": {},
   "outputs": [],
   "source": [
    "\"\"\"\n",
    "On a dans un premier temps voulu simplifier les informations données, on a donc tracer sur paint les liens entre chaque prénoms.\n",
    "Cela nous a permi d'y voir plus clair pour ensuite s'attaquer à la modélisation dans un tableau.\n",
    "En suivant le modele \"amis[2*i] a des interactions avec amis[2*i+1]\" on a donc ajouté les couples de prénoms correspondant\n",
    "aux relations à un tableau.\n",
    "\"\"\"\n",
    "\n",
    "\n",
    "\n",
    "\n"
   ]
  },
  {
   "cell_type": "markdown",
   "metadata": {
    "deletable": false,
    "editable": false,
    "run_control": {
     "frozen": true
    }
   },
   "source": [
    "#### Question 1 : Nombre d'amis d'une personne\n",
    "\n",
    "- Étant donné un tableau `amis`, écrire une fonction `nb_amis(amis, prenom)` qui retourne le nombre d'amis de `prenom` à partir des données du tableau `amis`. "
   ]
  },
  {
   "cell_type": "code",
   "execution_count": null,
   "metadata": {},
   "outputs": [],
   "source": [
    "\"\"\"\n",
    "On s'est posé la question de savoir comment calculer le nombre de relations du prénom donné.\n",
    "On a remarquer qu'avec le modèle utilisé, on retrouvait le prénom dans le tableau à chacune de ses relations.\n",
    "\n",
    "On a donc pensé à faire une boucle qui parcours le tableau donné en paramètre et qui calcule le nombre d'occurence du prénom,\n",
    "ce qui correspond donc à son nombre d'amis.\n",
    "\"\"\"\n",
    "\n",
    "\n",
    "\n"
   ]
  },
  {
   "cell_type": "markdown",
   "metadata": {
    "deletable": false,
    "editable": false,
    "run_control": {
     "frozen": true
    }
   },
   "source": [
    "#### Question 2 : Nombre de membres d'un réseau social \n",
    "\n",
    "- Ecrire une fonction `taille_reseau(amis)` qui à partir d'un tableau `amis`retourne le nombre de personnes distinctes participant à ce réseau social."
   ]
  },
  {
   "cell_type": "code",
   "execution_count": null,
   "metadata": {},
   "outputs": [],
   "source": [
    "\"\"\"\n",
    "On s'est posé la question de savoir comment calculer le nombre de personnes distinctes.\n",
    "On s'est dit qu'il fallait isoler les prénoms sans les doublons,\n",
    "\n",
    "Pour cela nous avons pensé à faire un nouveau tableau auquel nous ajoutons un prénom lorsque celui-ci n'est pas encore dedans.\n",
    "On a donc pensé à parcourir le tableau donné en paramètre et tester si le prénom est présent ou non dans le tableau qu'on a créé,\n",
    "si il n'y est pas on a juste à l'ajouter.\n",
    "\"\"\"\n",
    "\n",
    "\n",
    "\n",
    "\n"
   ]
  },
  {
   "cell_type": "markdown",
   "metadata": {
    "deletable": false,
    "editable": false,
    "run_control": {
     "frozen": true
    }
   },
   "source": [
    "#### Question 3 :  Lecture des données d'un réseau à partir d'un fichier\n",
    "On suppose que les données sur un réseau social sont stockées dans un fichier CSV de la manière suivante :\n",
    "```\n",
    "prenom1;prenom2\n",
    "prenom3;prenom4\n",
    "prenom5;prenom6\n",
    "...\n",
    "```\n",
    "Autrement dit, chaque ligne du fichier contient une paire de prénoms séparés par un `';'` correspondant à deux personnes ayant des interactions. \n",
    "\n",
    "**NB** : Quatre fichiers CSV de ce type sont fournis dans le répertoire `files/`, il s'agit des fichiers`Communaute1.csv`, `Communaute2.csv`,`Communaute3.csv` et `Communaute4.csv`. \n",
    "Il est recommandé d'en fabriquer d'autres. \n",
    "\n",
    "- Ecrire une fonction `lecture_reseau(path)` prenant en paramètre un chemin vers un tel fichier CSV et retournant un tableau modélisant les interactions entre les personnes du fichier."
   ]
  },
  {
   "cell_type": "code",
   "execution_count": null,
   "metadata": {},
   "outputs": [],
   "source": [
    "\"\"\"\n",
    "On s'est dans un premier temps demandé comment récuperer les données du fichier, on a donc simplement pensé à ouvrir le fichier,\n",
    "recuperer les données grâce à la fonction .readlines() et les stocker dans une variable pour les traiter par la suite.\n",
    "\n",
    "On savait que chaque lignes correspondait à une relation donc on voulait simplement ajouter les deux prénoms de la ligne au tableau,\n",
    "On savait que les données récupérées lors de la lecture du fichier etaient sous la forme d'un tableau où chaque element etait une ligne.\n",
    "On a donc pensé a faire une boucle qui parcours ce tableau de données et qui traitera chaque ligne pour ajouter les infos au tableau final.\n",
    "Pour le traitement la question qui se posait etait de comment enlever le retour chariot qui permettait un retour à la ligne\n",
    "et comment séparer les deux prénoms, on a donc pensé à utiliser .strip() (pour le retour chariot) et .split(\";\") (pour séparer),\n",
    "On savait également qui le .split(\";\") nous renverrai un tableau des deux prénoms donc on a simplement ajouter les elements un par un\n",
    "au tableau final.\n",
    "\"\"\"\n",
    "\n",
    "\n",
    "\n"
   ]
  },
  {
   "cell_type": "markdown",
   "metadata": {
    "deletable": false,
    "editable": false,
    "run_control": {
     "frozen": true
    }
   },
   "source": [
    "#### Question 4 : Modélisation d'un réseau par un dictionnaire\n",
    "On préfère pour la suite, utiliser une modélisation du réseau social par un dictionnaire dont où les clés sont les prénoms des personnes du réseau et la valeur associé à une clé est le tableau des amis de la personne indiquée par la clé.\n",
    "\n",
    "- A partir d'un tableau `amis` modélisant les interactions entre personnes d'un réseau, écrire une fonction `dico_reseau(amis)` qui retourne un dictionnaire dont les clés sont les prénoms des membres du réseau et les valeurs le tableau de leurs amis."
   ]
  },
  {
   "cell_type": "code",
   "execution_count": null,
   "metadata": {},
   "outputs": [],
   "source": [
    "\"\"\"\n",
    "On s’est demandé comment extraire les différentes informations du tableau donné pour former un dictionnaire.\n",
    "On a d’abord pensé à faire une boucle imbriquée, où la première parcours un tableau des différents prénoms qu’on aura auparavant\n",
    "construit grâce à une autre boucle, puis pour chacun de ses prénoms la deuxième boucle parcourra le tableau initial pour ajouter\n",
    "chaque prénom avec lequel il est en relation dans un tableau, donc à la fin de chaque tour de la première boucle on ajoutera le\n",
    "prénom et son tableau d’amis au dictionnaire.\n",
    "Mais par la suite bien que la fonction initiale fournissait le résultat attendu, on s’est demandé comment simplifier tout ça.\n",
    "En se basant sur le modèle du tableau on s’est dit qu’on pouvait parcourir le tableau avec une seule boucle qui traiterait les \n",
    "relations, donc qu’à chaque relation on ajouterais le prénom au tableau d’amis de l’autre prénom, on a d’abord fait une boucle \n",
    "qui à chaque tour ajoutais le prénom 2i a la clef 2i+1 et inversement mais pour ça il fallait que les prénoms soient déjà des \n",
    "clef du dictionnaire donc on a pensé à rajouter une condition qui testait si les prénoms était déjà des clefs et si ce n’était \n",
    "pas le cas on leur affecte un tableau vide en les ajoutant au dictionnaire comme ça on pouvait simplement ajouter les valeur à \n",
    "ce tableau.\n",
    "Cela fonctionnait mais nous avons voulu éviter la répétition, on a vu qu’au final pour les i paire on traitait le prénom\n",
    "d’indice i qui était amis avec i+1 et que pour les indices impairs on traitait le prénom d’indice i est amis avec i-1 on a donc\n",
    "pensé à faire une variable qui a chaque tour de boucle passe de 1 à -1 comme ça on évitait la répétition au sein de la boucle\n",
    "et chaque tour de boucle traite maintenant un sens de relation puis le deuxième l’autre sens de relation pour ce même couple \n",
    "d’amis puis ainsi de suite\n",
    "\"\"\"\n",
    "\n",
    "\n",
    "\n",
    "\n"
   ]
  },
  {
   "cell_type": "markdown",
   "metadata": {
    "deletable": false,
    "editable": false,
    "run_control": {
     "frozen": true
    }
   },
   "source": [
    "#### Question 5 : Nombre d'amis des personnes les plus populaires\n",
    "\n",
    "- A partir d'un dictionnaire `dico_reseau` modélisant les interactions dans un réseau d'amis, écrire une fonction `nb_amis_plus_pop (dico_reseau)` qui retourne le nombre d'amis des personnes les plus populaires du réseau."
   ]
  },
  {
   "cell_type": "code",
   "execution_count": null,
   "metadata": {},
   "outputs": [],
   "source": [
    "\"\"\"\n",
    "On s'est posé la question de comment trouver le nombre d'amis maximum que quelqu'un pouvait avoir.\n",
    "On savait que chaque clef du dictionnaire avait pour valeur un tableau contenant les amis du prénom en clef.\n",
    "Et donc on a pensé à parcourir le dictionnaire avec une boucle en calculant la longueur du tableau pour chaque clef.\n",
    "On a crée une variable qui stocke la longueur maximum, à chaque tour de boucle si la longueur du tableau est supérieure à la\n",
    "valeur de la variable alors la variable prendra la nouvelle valeur.\n",
    "Une fois la boucle fini la valeur stockée dans la variable est donc le nombre max d'amis que quelqu'un a.\n",
    "\"\"\"\n",
    "\n",
    "\n",
    "\n",
    "\n"
   ]
  },
  {
   "cell_type": "markdown",
   "metadata": {
    "deletable": false,
    "editable": false,
    "run_control": {
     "frozen": true
    }
   },
   "source": [
    "#### Question 6 : Personnes les plus populaires\n",
    "\n",
    "- A partir d'un dictionnaire `dico_reseau` modélisant les interactions dans un réseau d'amis, écrire une fonction `les_plus_pop (dico_reseau)` qui retourne un tableau contenant les prénoms de toutes les personnes les plus populaires du réseau."
   ]
  },
  {
   "cell_type": "code",
   "execution_count": null,
   "metadata": {},
   "outputs": [],
   "source": [
    "\"\"\"\n",
    "On s'est posé la question de comment savoir si une personne avait le nombre maximum d'amis, on a remarqué une similarité avec\n",
    "la question précédente, on a donc pensé à stocker le nombre maximum qu'une personne pouvait avoir dans une varibale qui stock\n",
    "le résultat retourné par l'appel de la fonction précédente \"nb_amis_plus_pop(dico_reseau)\"\"\n",
    "On a donc ensuite pensé à faire une boucle qui parcours le dictionnaire et qui test pour chaque clef si son nombre d'amis (donc\n",
    "la longueur du tableau qu'elle a en valeur) est équal au nombre maximum d'amis defini plus tôt, si c'est le cas, on ajoute\n",
    "la clef à un tableau, ce tableau contiendra donc les prénoms des personnes les plus populaires.\n",
    "\"\"\"\n",
    "\n",
    "\n",
    "\n",
    "\n"
   ]
  }
 ],
 "metadata": {
  "kernelspec": {
   "display_name": "Python 3 (ipykernel)",
   "language": "python",
   "name": "python3"
  },
  "language_info": {
   "codemirror_mode": {
    "name": "ipython",
    "version": 3
   },
   "file_extension": ".py",
   "mimetype": "text/x-python",
   "name": "python",
   "nbconvert_exporter": "python",
   "pygments_lexer": "ipython3",
   "version": "3.9.12"
  },
  "latex_envs": {
   "LaTeX_envs_menu_present": true,
   "autoclose": false,
   "autocomplete": true,
   "bibliofile": "biblio.bib",
   "cite_by": "apalike",
   "current_citInitial": 1,
   "eqLabelWithNumbers": true,
   "eqNumInitial": 1,
   "hotkeys": {
    "equation": "Ctrl-E",
    "itemize": "Ctrl-I"
   },
   "labels_anchors": false,
   "latex_user_defs": false,
   "report_style_numbering": false,
   "user_envs_cfg": false
  }
 },
 "nbformat": 4,
 "nbformat_minor": 2
}
