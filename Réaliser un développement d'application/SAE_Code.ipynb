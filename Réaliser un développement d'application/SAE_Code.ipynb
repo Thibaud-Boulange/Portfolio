{
 "cells": [
  {
   "cell_type": "markdown",
   "metadata": {
    "deletable": false,
    "editable": false,
    "run_control": {
     "frozen": true
    }
   },
   "source": [
    "# <center> Etude de communautés dans un réseau social</center>\n",
    "<center> SAE 1.01 / 2022 - 23 </center>\n",
    "\n"
   ]
  },
  {
   "cell_type": "markdown",
   "metadata": {
    "deletable": false,
    "editable": false,
    "run_control": {
     "frozen": true
    }
   },
   "source": [
    "Cette SAE est à faire en **binôme**.\n",
    "\n",
    "**Calendrier**\n",
    "- Un contrôle de 2h en lien avec le contenu de cette SAE aura lieu le mercredi **26 octobre** 2022.\n",
    "- Le projet est à rendre le vendredi **28 octobre** 2022. Les modalités de rendu vous seront précisées par votre enseignant.\n",
    "\n",
    "**Evaluation**\n",
    "- Le projet comptera pour 40% de la note de SAE 1.01. <BR>\n",
    "    Il sera particulièrement tenu compte de la qualité du code, des **commentaires** et **docstrings**, des fonctions de **tests unitaires** pour les fonctions renvoyant des résultats. <BR><BR>\n",
    "    \n",
    "- Le contrôle compte pour 60% de la note finale."
   ]
  },
  {
   "cell_type": "markdown",
   "metadata": {
    "deletable": false,
    "editable": false,
    "run_control": {
     "frozen": true
    }
   },
   "source": [
    "## <center> Sujet </center>\n",
    "\n",
    "Une *communauté* est un ensemble de personnes développant des interactions dans un réseau social.\n",
    "\n",
    "Dans ce projet, on étudie des communautés modélisées sous différentes formes. Pour cela, on développe des fonctions permettant d'extraire des informations relatives à ces réseaux. "
   ]
  },
  {
   "cell_type": "markdown",
   "metadata": {
    "deletable": false,
    "editable": false,
    "run_control": {
     "frozen": true
    }
   },
   "source": [
    "On modélise, dans un premier temps, les interactions entre personnes dans un tableau `amis` de chaînes de caractères contenant les prénoms des membres du réseau et tel que `amis[2*i]` a des interactions avec `amis[2*i+1]`.\n",
    "\n",
    "On suppose que chaque interaction n'est décrite qu'une seule fois dans le tableau, et qu'une personne n'a pas d'interaction avec elle-même.\n",
    "\n",
    "**Exemple** : "
   ]
  },
  {
   "cell_type": "code",
   "execution_count": 9,
   "metadata": {
    "deletable": false,
    "editable": false
   },
   "outputs": [],
   "source": [
    "amis = [\"Alice\", \"Bob\", \"Alice\", \"Charlie\", \"Bob\", \"Denis\"]"
   ]
  },
  {
   "cell_type": "markdown",
   "metadata": {
    "deletable": false,
    "editable": false,
    "run_control": {
     "frozen": true
    }
   },
   "source": [
    "Ici, \n",
    "- Alice a des interactions Bob et Charlie, \n",
    "- Bob a des intractions avec Alice et Denis,\n",
    "- Charlie a des interactions avec Alice et\n",
    "- Denis a des interactions avec Bob."
   ]
  },
  {
   "cell_type": "markdown",
   "metadata": {
    "deletable": false,
    "editable": false,
    "run_control": {
     "frozen": true
    }
   },
   "source": [
    "#### Question préliminaire : Modélisation d'un réseau par un tableau\n",
    "\n",
    "Muriel, Yasmine et Joël sont amis. Yasmine est amie avec Thomas. \n",
    "Joël, Nassim, Andrea et Ali sont amis. Thomas est ami de Daria et Carole. Thierry, Axel et Léo sont amis. Léo est ami de Valentin qui est ami d'Andrea.\n",
    "\n",
    "- Construire un tableau `p_amis` qui modélise ce réseau d'amitié en selon le principe qui vient d'être décrit."
   ]
  },
  {
   "cell_type": "code",
   "execution_count": 10,
   "metadata": {},
   "outputs": [],
   "source": [
    "p_amis = [\"Daria\",\"Thomas\", \"Carole\", \"Thomas\", \"Yasmine\", \"Thomas\" ,\"Joel\" , \"Yasmine\", \"Murielle\" , \"Yasmine\",\n",
    "        \"Murielle\", \"Joel\", \"Nassime\", \"Ali\", \"Joel\", \"Ali\", \"Nassime\", \"Joel\", \"Ali\", \"Andrea\", \"Nassime\", \"Andrea\",\n",
    "        \"Joel\", \"Andrea\", \"Valentin\", \"Andrea\", \"Leo\", \"Valentin\", \"Axel\", \"Leo\", \"Thierry\", \"Leo\", \"Axel\", \"Thierry\"]\n"
   ]
  },
  {
   "cell_type": "markdown",
   "metadata": {
    "deletable": false,
    "editable": false,
    "run_control": {
     "frozen": true
    }
   },
   "source": [
    "#### Question 1 : Nombre d'amis d'une personne\n",
    "\n",
    "- Étant donné un tableau `amis`, écrire une fonction `nb_amis(amis, prenom)` qui retourne le nombre d'amis de `prenom` à partir des données du tableau `amis`. "
   ]
  },
  {
   "cell_type": "code",
   "execution_count": 11,
   "metadata": {},
   "outputs": [
    {
     "name": "stdout",
     "output_type": "stream",
     "text": [
      "Test de la fonction nb_amis : OK\n"
     ]
    }
   ],
   "source": [
    "def nb_amis(amis, prenom):\n",
    "    \"\"\"\n",
    "    La fonction renvoie le nombre d'amis d'un prenom au sein d'une commmunaute\n",
    "    \n",
    "    parametres : -amis : tableau contenant les interraction modélisées d'une communauté (type : list)\n",
    "                 -prenom : prenom dont on veut connaitre le nombre d'amis (type : str)\n",
    "                 \n",
    "    renvoie : nombre d'amis de prenom (type : int)\n",
    "    \n",
    "    Exemple:\n",
    "    nb_amis([\"Alice\", \"Bob\", \"Bob\", \"Denis\"], \"Bob\")\n",
    "    ->  2\n",
    "    \"\"\"\n",
    "    #initialisation des compteurs\n",
    "    i = 0\n",
    "    nb = 0\n",
    "    #on fait une boucle qui parcourt tous le tableau amis\n",
    "    while i < len(amis):    \n",
    "        #on teste si l'élement à indice i correspond à prenom \n",
    "        #on ajoute 1 au compteur nb si c'est le cas\n",
    "        if amis[i] == prenom:   \n",
    "            nb+=1         \n",
    "        i += 1\n",
    "    #on retourne nb\n",
    "    return nb\n",
    "\n",
    "### test de la fonction ###\n",
    "\n",
    "def test_nb_amis():\n",
    "    amis_test = ['George', 'Catherine', 'George', 'Philippe']\n",
    "    assert nb_amis(amis_test, 'George')==2\n",
    "    assert nb_amis(amis_test, 'Catherine')==1\n",
    "    assert nb_amis(amis_test, 'Lou')==0\n",
    "    assert not nb_amis(amis_test, 'Philippe')==2\n",
    "    print('Test de la fonction nb_amis : OK')\n",
    "\n",
    "test_nb_amis()\n",
    "\n"
   ]
  },
  {
   "cell_type": "markdown",
   "metadata": {
    "deletable": false,
    "editable": false,
    "run_control": {
     "frozen": true
    }
   },
   "source": [
    "#### Question 2 : Nombre de membres d'un réseau social \n",
    "\n",
    "- Ecrire une fonction `taille_reseau(amis)` qui à partir d'un tableau `amis`retourne le nombre de personnes distinctes participant à ce réseau social."
   ]
  },
  {
   "cell_type": "code",
   "execution_count": 12,
   "metadata": {},
   "outputs": [
    {
     "name": "stdout",
     "output_type": "stream",
     "text": [
      "Test de la fonction taille_reseau : OK\n"
     ]
    }
   ],
   "source": [
    "def taille_reseau(amis):\n",
    "    \"\"\"\n",
    "    La fonction renvoie le nombre de personnes distinctes au sein d'une commmunaute\n",
    "    \n",
    "    parametres : -amis : tableau contenant les interraction modélisées d'une communauté (type : list)\n",
    "                 \n",
    "    renvoie : nombre de personne distinctes (type : int)\n",
    "    \n",
    "    Exemple:\n",
    "    nb_amis([\"Alice\", \"Bob\", \"Alice\", \"Charlie\", \"Bob\", \"Denis\"])\n",
    "    ->  4\n",
    "    \"\"\"\n",
    "    #initialisation \n",
    "    i = 0 \n",
    "    prenom_diff = []\n",
    "    #on fait une boucle qui parcourt le tableau amis\n",
    "    while i < len(amis):\n",
    "        #on test si chaque élement du tableau amis n'est pas dans dans le tableau prenom_diff\n",
    "        #si c'est le cas on ajoute l'élement au tableau\n",
    "        if amis[i] not in prenom_diff:\n",
    "            prenom_diff.append(amis[i])\n",
    "        i += 1\n",
    "    #on retourne la longeur du tableau prenom_diff qui correspond au nombre de personne différentes\n",
    "    return len(prenom_diff)\n",
    "\n",
    "### test de la fonction ###\n",
    "\n",
    "def test_taille_reseau(): \n",
    "    assert taille_reseau([\"Alice\", \"Bob\", \"Alice\", \"Charlie\", \"Bob\", \"Denis\"])==4\n",
    "    assert not taille_reseau([\"Alice\", \"Bob\", \"Alice\", \"Charlie\"])==4\n",
    "    assert taille_reseau(['Alice'])==1\n",
    "    print('Test de la fonction taille_reseau : OK')\n",
    "    \n",
    "test_taille_reseau()"
   ]
  },
  {
   "cell_type": "markdown",
   "metadata": {
    "deletable": false,
    "editable": false,
    "run_control": {
     "frozen": true
    }
   },
   "source": [
    "#### Question 3 :  Lecture des données d'un réseau à partir d'un fichier\n",
    "On suppose que les données sur un réseau social sont stockées dans un fichier CSV de la manière suivante :\n",
    "```\n",
    "prenom1;prenom2\n",
    "prenom3;prenom4\n",
    "prenom5;prenom6\n",
    "...\n",
    "```\n",
    "Autrement dit, chaque ligne du fichier contient une paire de prénoms séparés par un `';'` correspondant à deux personnes ayant des interactions. \n",
    "\n",
    "**NB** : Quatre fichiers CSV de ce type sont fournis dans le répertoire `files/`, il s'agit des fichiers`Communaute1.csv`, `Communaute2.csv`,`Communaute3.csv` et `Communaute4.csv`. \n",
    "Il est recommandé d'en fabriquer d'autres. \n",
    "\n",
    "- Ecrire une fonction `lecture_reseau(path)` prenant en paramètre un chemin vers un tel fichier CSV et retournant un tableau modélisant les interactions entre les personnes du fichier."
   ]
  },
  {
   "cell_type": "code",
   "execution_count": 13,
   "metadata": {},
   "outputs": [
    {
     "name": "stdout",
     "output_type": "stream",
     "text": [
      "Test de la fonction : OK\n"
     ]
    }
   ],
   "source": [
    "def lecture_reseau(path):\n",
    "    \"\"\"\n",
    "    La fonction renvoie un tableau modelisant les interactions entre personnes au sein d'une communauté\n",
    "    à partir d'informations contenues dans un fichier de type csv\n",
    "    \n",
    "    parametres : -path : chemin d'accès au fichier (type : str)\n",
    "                 \n",
    "    renvoie : tableau modelisant les interactions contenues dans le fichier (type : list)\n",
    "    \n",
    "    Exemple:\n",
    "    On considere CommunauteX un fichier csv contenant ce texte:\n",
    "    prenom1;prenom2\n",
    "    prenom3;prenom4\n",
    "    prenom5;prenom6\n",
    "    \n",
    "    lecture_reseau(\"files/CommunauteX.csv\")\n",
    "    ->  [prenom1, prenom2, prenom3, prenom4, prenom5, prenom6]\n",
    "    \"\"\"\n",
    "    #on ouvre un fichier 'f' en mode lecture\n",
    "    #on lit toutes les lignes du fichier et les stock\n",
    "    #on ferme le fichier 'f'\n",
    "    f = open(path, encoding='utf-8', mode='r')\n",
    "    data = f.readlines()\n",
    "    f.close()\n",
    "    #initialisation\n",
    "    tab = []\n",
    "    i = 0\n",
    "    #on créer une boucle qui parcours toutes les lignes.\n",
    "    while i < len(data):\n",
    "        #on affecte à 'li' un tableau correspondant aux informations traitées de la ligne d'indice i \n",
    "        #traitement effectuer : séparées par un ';'sans les espaces parasites en début et en fin de texte et les retours chariot\n",
    "        li = data[i].strip().split(\";\")\n",
    "        #on ajoute au tableau les eléments de 'li'\n",
    "        tab.append(li[0])\n",
    "        tab.append(li[1])\n",
    "        i += 1\n",
    "    #on retourne le tableau tab\n",
    "    return tab\n",
    "\n",
    "\n",
    "### test de la fonction ###\n",
    "\n",
    "def test_lecture_reseau():\n",
    "    fi = open('files/test.csv', 'w')\n",
    "    fi.write('Giedrius;Mady\\n')\n",
    "    fi.write('Kirsa;Vittore\\n')\n",
    "    fi.close()\n",
    "    assert lecture_reseau('files/test.csv')== ['Giedrius', 'Mady', 'Kirsa', 'Vittore']\n",
    "    assert not lecture_reseau('files/test.csv')== ['Giedrius', 'Kirsa', 'Mady', 'Vittore']\n",
    "    print('Test de la fonction : OK')\n",
    "    \n",
    "test_lecture_reseau()\n"
   ]
  },
  {
   "cell_type": "markdown",
   "metadata": {
    "deletable": false,
    "editable": false,
    "run_control": {
     "frozen": true
    }
   },
   "source": [
    "#### Question 4 : Modélisation d'un réseau par un dictionnaire\n",
    "On préfère pour la suite, utiliser une modélisation du réseau social par un dictionnaire dont où les clés sont les prénoms des personnes du réseau et la valeur associé à une clé est le tableau des amis de la personne indiquée par la clé.\n",
    "\n",
    "- A partir d'un tableau `amis` modélisant les interactions entre personnes d'un réseau, écrire une fonction `dico_reseau(amis)` qui retourne un dictionnaire dont les clés sont les prénoms des membres du réseau et les valeurs le tableau de leurs amis."
   ]
  },
  {
   "cell_type": "code",
   "execution_count": 14,
   "metadata": {},
   "outputs": [
    {
     "name": "stdout",
     "output_type": "stream",
     "text": [
      "Test de la fonction dico_reseau : OK\n"
     ]
    }
   ],
   "source": [
    "def dico_reseau(amis):\n",
    "    \"\"\"\n",
    "    A partir d'un tableau modelisant les interactions d'un communauté, la fonction renvoie un dictionnaire où les clefs sont\n",
    "    les prenoms (donc une clef pour chaque prenom distinct) et la valeur de chaque clef est un tableau contenant les prenoms\n",
    "    de chaque personne avec qui le prenom en clef est amis\n",
    "    \n",
    "    parametres : -amis : tableau contenant les interraction modélisées d'une communauté (type : list)\n",
    "                 \n",
    "    renvoie : dictionnaire où les clefs sont les prenoms distincts et les valeurs un tableau contenant leur amis (type : dict)\n",
    "    \n",
    "    Exemple:\n",
    "    dico_reseau([\"Alice\", \"Bob\", \"Alice\", \"Charlie\"])\n",
    "    ->  {'Alice': ['Bob', 'Charlie'], 'Bob': ['Alice'], 'Charlie': ['Alice']}\n",
    "    \"\"\"\n",
    "    #initialisation\n",
    "    dico = {}\n",
    "    q = 1\n",
    "    #on créer une boucle qui parcourt le tableau amis\n",
    "    for i in range(len(amis)):\n",
    "        #on test si l'élement du tableau amis n'est pas une clé du dictionnaire\n",
    "        #si c'est le cas on l'ajoute au dictionnaire en lui affectant un tableau vide\n",
    "        if amis[i] not in list(dico):\n",
    "            dico[amis[i]] = []\n",
    "        if amis[i+q] not in list(dico):\n",
    "            dico[amis[i+q]] = []\n",
    "        #on ajoute amis[i] au tableau associé à la clé amis[i+q] du dictionnaire 'dico'\n",
    "        dico[amis[i+q]].append(amis[i])\n",
    "        q *= -1   #on change le signe de q pour traiter le couple d'amis dans l'autre sens au prochain tour de boucle\n",
    "    #on retourne le dictionnaire 'dico'\n",
    "    return dico\n",
    "\n",
    "### test de la fonction ###\n",
    "\n",
    "def test_dico_reseau():\n",
    "    assert dico_reseau([\"Alice\", \"Bob\"]) == {'Alice': ['Bob'], 'Bob': ['Alice']}\n",
    "    assert dico_reseau([\"Daria\",\"Thomas\", \"Carole\", \"Thomas\", \"Yasmine\", \"Thomas\"]) == {'Daria': ['Thomas'], 'Thomas': ['Daria', 'Carole', 'Yasmine'], 'Carole': ['Thomas'], 'Yasmine': ['Thomas']}\n",
    "    print(\"Test de la fonction dico_reseau : OK\")\n",
    "\n",
    "test_dico_reseau()\n",
    "    \n",
    "\n",
    "\n"
   ]
  },
  {
   "cell_type": "markdown",
   "metadata": {
    "deletable": false,
    "editable": false,
    "run_control": {
     "frozen": true
    }
   },
   "source": [
    "#### Question 5 : Nombre d'amis des personnes les plus populaires\n",
    "\n",
    "- A partir d'un dictionnaire `dico_reseau` modélisant les interactions dans un réseau d'amis, écrire une fonction `nb_amis_plus_pop (dico_reseau)` qui retourne le nombre d'amis des personnes les plus populaires du réseau."
   ]
  },
  {
   "cell_type": "code",
   "execution_count": 15,
   "metadata": {},
   "outputs": [
    {
     "name": "stdout",
     "output_type": "stream",
     "text": [
      "Test de la fonction nb_amis_plus_pop : OK\n"
     ]
    }
   ],
   "source": [
    "def nb_amis_plus_pop(dico_reseau):\n",
    "    \"\"\"\n",
    "    La fonction renvoie le nombre d'amis de la personne ayant le plus d'amis au sein du reseau \n",
    "    (plusieurs peuvent avoir ce nombre d'amis)\n",
    "    \n",
    "    parametres : -dico_reseau : dictionnaire contenant les interraction modélisées d'une communauté (type : dict)\n",
    "                 \n",
    "    renvoie : nombre d'amis de la personne ayant le plus d'amis (type : int)\n",
    "    \n",
    "    Exemple:\n",
    "    nb_amis_plus_pop({'Alice': ['Bob', 'Charlie'], 'Bob': ['Alice'], 'Charlie': ['Alice']})\n",
    "    ->  2\n",
    "    \"\"\"\n",
    "    #initialisation\n",
    "    i = 0\n",
    "    max_amis = 0\n",
    "    #on affecte à 'clefs' les clefs du dictionnaire 'dico_reseau'\n",
    "    clefs = list(dico_reseau)\n",
    "    #on créer une boucle qui parcourt le tableau 'clefs'\n",
    "    while i < len(clefs):\n",
    "        #on test si dico_reseau[clefs[i]] a plus d'amis que max_amis\n",
    "        #si c'est le cas on affecte à max_amis  le nombre d'amis de dico_reseau[clefs[i]]\n",
    "        if len(dico_reseau[clefs[i]]) > max_amis:\n",
    "            max_amis = len(dico_reseau[clefs[i]])\n",
    "        i += 1\n",
    "        #on retourne max_amis\n",
    "    return max_amis\n",
    "\n",
    "### test de la fonction ###\n",
    "\n",
    "def test_nb_amis_plus_pop():\n",
    "    assert nb_amis_plus_pop({'Alice': ['Bob', 'Charlie'], 'Bob': ['Alice'], 'Charlie': ['Alice']}) == 2\n",
    "    assert not nb_amis_plus_pop({'Alice': ['Bob', 'Charlie'], 'Bob': ['Alice'], 'Charlie': ['Alice']}) == 1\n",
    "    assert nb_amis_plus_pop({'Alice': ['Bob', 'Charlie'], 'Bob': ['Alice','Romain'], 'Charlie': ['Alice'], 'Romain': ['Bob']}) == 2\n",
    "    print(\"Test de la fonction nb_amis_plus_pop : OK\")\n",
    "    \n",
    "test_nb_amis_plus_pop()\n",
    "    "
   ]
  },
  {
   "cell_type": "markdown",
   "metadata": {
    "deletable": false,
    "editable": false,
    "run_control": {
     "frozen": true
    }
   },
   "source": [
    "#### Question 6 : Personnes les plus populaires\n",
    "\n",
    "- A partir d'un dictionnaire `dico_reseau` modélisant les interactions dans un réseau d'amis, écrire une fonction `les_plus_pop (dico_reseau)` qui retourne un tableau contenant les prénoms de toutes les personnes les plus populaires du réseau."
   ]
  },
  {
   "cell_type": "code",
   "execution_count": 16,
   "metadata": {},
   "outputs": [
    {
     "name": "stdout",
     "output_type": "stream",
     "text": [
      "Test de la fonction les_plus_pop : OK\n"
     ]
    }
   ],
   "source": [
    "def les_plus_pop(dico_reseau):\n",
    "    \"\"\"\n",
    "    La fonction renvoie un tableau contenant les prenoms des personnes ayant le plus grand nombre d'amis au sein du reseau \n",
    "    \n",
    "    parametres : -dico_reseau : dictionnaire contenant les interraction modélisées d'une communauté (type : dict)\n",
    "                 \n",
    "    renvoie : tableau contenant les prenoms des personnes ayant le nombre maximum d'amis du reseau (type : list)\n",
    "    \n",
    "    Exemple:\n",
    "    les_plus_pop({'Alice': ['Bob', 'Charlie'], 'Bob': ['Alice', 'Denis'], 'Charlie': ['Alice'], 'Denis': ['Bob']})\n",
    "    ->  ['Alice', 'Bob']\n",
    "    \"\"\"\n",
    "    #initialisation\n",
    "    max_amis = nb_amis_plus_pop(dico_reseau)  #on affecte le résultat de l'appel de la fonction 'nb_amis_plus_pop(dico_reseau)' à la variable max_amis\n",
    "    i = 0\n",
    "    clefs = list(dico_reseau)   #on affecte à 'clefs' les clefs du dictionnaire 'dico_reseau'\n",
    "    tab = []\n",
    "    #on créer une boucle qui parcourt le tableau'clefs'\n",
    "    while i < len(clefs):    \n",
    "        #on test si le nombre d'ami de 'dico_reseau[clefs[i]]' correspond à max_amis\n",
    "        #si c'est le cas on ajoute 'clefs[i]' au tableau 'tab'\n",
    "        if len(dico_reseau[clefs[i]]) == max_amis:\n",
    "            tab.append(clefs[i])\n",
    "        i += 1\n",
    "        #on retourne 'tab'\n",
    "    return tab\n",
    "\n",
    "### test de la fonction ###\n",
    "\n",
    "def test_les_plus_pop():\n",
    "    assert les_plus_pop({'Alice': ['Bob', 'Charlie'], 'Bob': ['Alice'], 'Charlie': ['Alice']}) == ['Alice']\n",
    "    assert not les_plus_pop({'Alice': ['Bob', 'Charlie'], 'Bob': ['Alice'], 'Charlie': ['Alice']}) == ['Bob']\n",
    "    assert les_plus_pop({'Alice': ['Bob', 'Charlie'], 'Bob': ['Alice','Romain'], 'Charlie': ['Alice'], 'Romain': ['Bob']}) == ['Alice','Bob']\n",
    "    print(\"Test de la fonction les_plus_pop : OK\")\n",
    "\n",
    "test_les_plus_pop()\n",
    "\n",
    "\n",
    "\n",
    "\n"
   ]
  },
  {
   "cell_type": "code",
   "execution_count": null,
   "metadata": {},
   "outputs": [],
   "source": []
  }
 ],
 "metadata": {
  "kernelspec": {
   "display_name": "Python 3 (ipykernel)",
   "language": "python",
   "name": "python3"
  },
  "language_info": {
   "codemirror_mode": {
    "name": "ipython",
    "version": 3
   },
   "file_extension": ".py",
   "mimetype": "text/x-python",
   "name": "python",
   "nbconvert_exporter": "python",
   "pygments_lexer": "ipython3",
   "version": "3.9.12"
  },
  "latex_envs": {
   "LaTeX_envs_menu_present": true,
   "autoclose": false,
   "autocomplete": true,
   "bibliofile": "biblio.bib",
   "cite_by": "apalike",
   "current_citInitial": 1,
   "eqLabelWithNumbers": true,
   "eqNumInitial": 1,
   "hotkeys": {
    "equation": "Ctrl-E",
    "itemize": "Ctrl-I"
   },
   "labels_anchors": false,
   "latex_user_defs": false,
   "report_style_numbering": false,
   "user_envs_cfg": false
  }
 },
 "nbformat": 4,
 "nbformat_minor": 2
}
